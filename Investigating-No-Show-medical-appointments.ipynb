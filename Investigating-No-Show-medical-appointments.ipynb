{
 "cells": [
  {
   "cell_type": "markdown",
   "metadata": {},
   "source": [
    "# Investigating a No-Show medical appointments for public hospitals in Brazil\n",
    "\n",
    "## Table of Contents\n",
    "<ul>\n",
    "<li><a href=\"#intro\">Introduction</a></li>\n",
    "<li><a href=\"#wrangling\">Data Wrangling</a></li>\n",
    "<li><a href=\"#eda\">Exploratory Data Analysis</a></li>\n",
    "<li><a href=\"#conclusions\">Conclusions</a></li>\n",
    "</ul>"
   ]
  },
  {
   "cell_type": "markdown",
   "metadata": {},
   "source": [
    "<a id='intro'></a>\n",
    "## Introduction\n",
    "\n",
    "> This dataset is a collection of some 110K medical appointments of patients in Brazil. The records include different characteristics of patients, along with a no-show record, which here is most important to us. The various given factors will be used to relate the reason for no-shows. Factors such as age, day on which appointment falls and wait time!\n"
   ]
  },
  {
   "cell_type": "markdown",
   "metadata": {},
   "source": [
    "### Importing the libraries we'll be using "
   ]
  },
  {
   "cell_type": "code",
   "execution_count": 1,
   "metadata": {
    "collapsed": true
   },
   "outputs": [],
   "source": [
    "\n",
    "import pandas as pd\n",
    "import numpy as np\n",
    "import matplotlib.pyplot as plt\n",
    "from matplotlib import figure\n",
    "% matplotlib inline"
   ]
  },
  {
   "cell_type": "markdown",
   "metadata": {},
   "source": [
    "<a id='wrangling'></a>\n",
    "## Data Wrangling\n",
    "\n",
    "> In this section, the data will be loaded from CSV file and studied for any inconsistency. The data will then be cleaned for further use\n",
    "### General Properties"
   ]
  },
  {
   "cell_type": "code",
   "execution_count": 2,
   "metadata": {},
   "outputs": [
    {
     "name": "stdout",
     "output_type": "stream",
     "text": [
      "<class 'pandas.core.frame.DataFrame'>\n",
      "RangeIndex: 110527 entries, 0 to 110526\n",
      "Data columns (total 14 columns):\n",
      "PatientId         110527 non-null float64\n",
      "AppointmentID     110527 non-null int64\n",
      "Gender            110527 non-null object\n",
      "ScheduledDay      110527 non-null object\n",
      "AppointmentDay    110527 non-null object\n",
      "Age               110527 non-null int64\n",
      "Neighbourhood     110527 non-null object\n",
      "Scholarship       110527 non-null int64\n",
      "Hipertension      110527 non-null int64\n",
      "Diabetes          110527 non-null int64\n",
      "Alcoholism        110527 non-null int64\n",
      "Handcap           110527 non-null int64\n",
      "SMS_received      110527 non-null int64\n",
      "No-show           110527 non-null object\n",
      "dtypes: float64(1), int64(8), object(5)\n",
      "memory usage: 11.8+ MB\n"
     ]
    }
   ],
   "source": [
    "# loading the csv file and checking the datatypes of the columns\n",
    "df = pd.read_csv('noshowappointments-kagglev2-may-2016.csv')\n",
    "# df.head(5) \n",
    "df.info()"
   ]
  },
  {
   "cell_type": "markdown",
   "metadata": {},
   "source": [
    "> It can be seen that few column names are not correct, also datatype for few columns aren't accurate"
   ]
  },
  {
   "cell_type": "markdown",
   "metadata": {},
   "source": [
    "### Renaming the column names first for easy use/understanding"
   ]
  },
  {
   "cell_type": "code",
   "execution_count": 3,
   "metadata": {},
   "outputs": [
    {
     "data": {
      "text/plain": [
       "Index(['patientid', 'appointmentid', 'gender', 'scheduledday',\n",
       "       'appointmentday', 'age', 'neighbourhood', 'scholarship', 'hypertension',\n",
       "       'diabetes', 'alcoholism', 'handicap', 'sms_received', 'no_show'],\n",
       "      dtype='object')"
      ]
     },
     "execution_count": 3,
     "metadata": {},
     "output_type": "execute_result"
    }
   ],
   "source": [
    "# renaming the column names for easy use \n",
    "\n",
    "df.rename(columns=lambda x: x.strip().lower().replace(\"-\", \"_\"), inplace=True)\n",
    "df.rename(columns= {'hipertension': 'hypertension', 'handcap': 'handicap'}, inplace=True)\n",
    "df.columns"
   ]
  },
  {
   "cell_type": "markdown",
   "metadata": {},
   "source": [
    "> The name of columns were changed also hyphens were changed to underscores for better use"
   ]
  },
  {
   "cell_type": "markdown",
   "metadata": {},
   "source": [
    "### General descriptive summary of the dataset"
   ]
  },
  {
   "cell_type": "code",
   "execution_count": 4,
   "metadata": {},
   "outputs": [
    {
     "data": {
      "text/html": [
       "<div>\n",
       "<style>\n",
       "    .dataframe thead tr:only-child th {\n",
       "        text-align: right;\n",
       "    }\n",
       "\n",
       "    .dataframe thead th {\n",
       "        text-align: left;\n",
       "    }\n",
       "\n",
       "    .dataframe tbody tr th {\n",
       "        vertical-align: top;\n",
       "    }\n",
       "</style>\n",
       "<table border=\"1\" class=\"dataframe\">\n",
       "  <thead>\n",
       "    <tr style=\"text-align: right;\">\n",
       "      <th></th>\n",
       "      <th>patientid</th>\n",
       "      <th>appointmentid</th>\n",
       "      <th>age</th>\n",
       "      <th>scholarship</th>\n",
       "      <th>hypertension</th>\n",
       "      <th>diabetes</th>\n",
       "      <th>alcoholism</th>\n",
       "      <th>handicap</th>\n",
       "      <th>sms_received</th>\n",
       "    </tr>\n",
       "  </thead>\n",
       "  <tbody>\n",
       "    <tr>\n",
       "      <th>count</th>\n",
       "      <td>1.105270e+05</td>\n",
       "      <td>1.105270e+05</td>\n",
       "      <td>110527.000000</td>\n",
       "      <td>110527.000000</td>\n",
       "      <td>110527.000000</td>\n",
       "      <td>110527.000000</td>\n",
       "      <td>110527.000000</td>\n",
       "      <td>110527.000000</td>\n",
       "      <td>110527.000000</td>\n",
       "    </tr>\n",
       "    <tr>\n",
       "      <th>mean</th>\n",
       "      <td>1.474963e+14</td>\n",
       "      <td>5.675305e+06</td>\n",
       "      <td>37.088874</td>\n",
       "      <td>0.098266</td>\n",
       "      <td>0.197246</td>\n",
       "      <td>0.071865</td>\n",
       "      <td>0.030400</td>\n",
       "      <td>0.022248</td>\n",
       "      <td>0.321026</td>\n",
       "    </tr>\n",
       "    <tr>\n",
       "      <th>std</th>\n",
       "      <td>2.560949e+14</td>\n",
       "      <td>7.129575e+04</td>\n",
       "      <td>23.110205</td>\n",
       "      <td>0.297675</td>\n",
       "      <td>0.397921</td>\n",
       "      <td>0.258265</td>\n",
       "      <td>0.171686</td>\n",
       "      <td>0.161543</td>\n",
       "      <td>0.466873</td>\n",
       "    </tr>\n",
       "    <tr>\n",
       "      <th>min</th>\n",
       "      <td>3.921784e+04</td>\n",
       "      <td>5.030230e+06</td>\n",
       "      <td>-1.000000</td>\n",
       "      <td>0.000000</td>\n",
       "      <td>0.000000</td>\n",
       "      <td>0.000000</td>\n",
       "      <td>0.000000</td>\n",
       "      <td>0.000000</td>\n",
       "      <td>0.000000</td>\n",
       "    </tr>\n",
       "    <tr>\n",
       "      <th>25%</th>\n",
       "      <td>4.172614e+12</td>\n",
       "      <td>5.640286e+06</td>\n",
       "      <td>18.000000</td>\n",
       "      <td>0.000000</td>\n",
       "      <td>0.000000</td>\n",
       "      <td>0.000000</td>\n",
       "      <td>0.000000</td>\n",
       "      <td>0.000000</td>\n",
       "      <td>0.000000</td>\n",
       "    </tr>\n",
       "    <tr>\n",
       "      <th>50%</th>\n",
       "      <td>3.173184e+13</td>\n",
       "      <td>5.680573e+06</td>\n",
       "      <td>37.000000</td>\n",
       "      <td>0.000000</td>\n",
       "      <td>0.000000</td>\n",
       "      <td>0.000000</td>\n",
       "      <td>0.000000</td>\n",
       "      <td>0.000000</td>\n",
       "      <td>0.000000</td>\n",
       "    </tr>\n",
       "    <tr>\n",
       "      <th>75%</th>\n",
       "      <td>9.439172e+13</td>\n",
       "      <td>5.725524e+06</td>\n",
       "      <td>55.000000</td>\n",
       "      <td>0.000000</td>\n",
       "      <td>0.000000</td>\n",
       "      <td>0.000000</td>\n",
       "      <td>0.000000</td>\n",
       "      <td>0.000000</td>\n",
       "      <td>1.000000</td>\n",
       "    </tr>\n",
       "    <tr>\n",
       "      <th>max</th>\n",
       "      <td>9.999816e+14</td>\n",
       "      <td>5.790484e+06</td>\n",
       "      <td>115.000000</td>\n",
       "      <td>1.000000</td>\n",
       "      <td>1.000000</td>\n",
       "      <td>1.000000</td>\n",
       "      <td>1.000000</td>\n",
       "      <td>4.000000</td>\n",
       "      <td>1.000000</td>\n",
       "    </tr>\n",
       "  </tbody>\n",
       "</table>\n",
       "</div>"
      ],
      "text/plain": [
       "          patientid  appointmentid            age    scholarship  \\\n",
       "count  1.105270e+05   1.105270e+05  110527.000000  110527.000000   \n",
       "mean   1.474963e+14   5.675305e+06      37.088874       0.098266   \n",
       "std    2.560949e+14   7.129575e+04      23.110205       0.297675   \n",
       "min    3.921784e+04   5.030230e+06      -1.000000       0.000000   \n",
       "25%    4.172614e+12   5.640286e+06      18.000000       0.000000   \n",
       "50%    3.173184e+13   5.680573e+06      37.000000       0.000000   \n",
       "75%    9.439172e+13   5.725524e+06      55.000000       0.000000   \n",
       "max    9.999816e+14   5.790484e+06     115.000000       1.000000   \n",
       "\n",
       "        hypertension       diabetes     alcoholism       handicap  \\\n",
       "count  110527.000000  110527.000000  110527.000000  110527.000000   \n",
       "mean        0.197246       0.071865       0.030400       0.022248   \n",
       "std         0.397921       0.258265       0.171686       0.161543   \n",
       "min         0.000000       0.000000       0.000000       0.000000   \n",
       "25%         0.000000       0.000000       0.000000       0.000000   \n",
       "50%         0.000000       0.000000       0.000000       0.000000   \n",
       "75%         0.000000       0.000000       0.000000       0.000000   \n",
       "max         1.000000       1.000000       1.000000       4.000000   \n",
       "\n",
       "        sms_received  \n",
       "count  110527.000000  \n",
       "mean        0.321026  \n",
       "std         0.466873  \n",
       "min         0.000000  \n",
       "25%         0.000000  \n",
       "50%         0.000000  \n",
       "75%         1.000000  \n",
       "max         1.000000  "
      ]
     },
     "execution_count": 4,
     "metadata": {},
     "output_type": "execute_result"
    }
   ],
   "source": [
    "df.describe()"
   ]
  },
  {
   "cell_type": "markdown",
   "metadata": {},
   "source": [
    "> It can be seen that patient ID is reflecting as float value, which will be changed to INT in next section. Also, the minimum age is -1, which does not make sense. This will be left out as well."
   ]
  },
  {
   "cell_type": "markdown",
   "metadata": {},
   "source": [
    "### Checking datatypes of the columns which are to be changed"
   ]
  },
  {
   "cell_type": "code",
   "execution_count": 5,
   "metadata": {},
   "outputs": [
    {
     "name": "stdout",
     "output_type": "stream",
     "text": [
      "float64\n",
      "object\n",
      "object\n"
     ]
    }
   ],
   "source": [
    "# Datatypes of the columns\n",
    "print(df['patientid'].dtype)\n",
    "print(df['scheduledday'].dtype)\n",
    "print(df['appointmentday'].dtype)"
   ]
  },
  {
   "cell_type": "markdown",
   "metadata": {},
   "source": [
    "> The patienttid will be changed to INT and the date fields to datetime type"
   ]
  },
  {
   "cell_type": "markdown",
   "metadata": {},
   "source": [
    "## Data Cleaning\n",
    "\n",
    "> In this section, the datatypes for the incorrect columns will be corrected. Also, columns with datatype as boolean will be converted to 0,1. Also, couple of new columns will be derived based on the values from other columns."
   ]
  },
  {
   "cell_type": "markdown",
   "metadata": {
    "collapsed": true
   },
   "source": [
    "### Removing age outliers!\n",
    "\n"
   ]
  },
  {
   "cell_type": "markdown",
   "metadata": {},
   "source": [
    "> As discussed in the above section, the minimun age -1. Let's have a look at a histogram for age!"
   ]
  },
  {
   "cell_type": "code",
   "execution_count": 6,
   "metadata": {},
   "outputs": [
    {
     "data": {
      "text/plain": [
       "<matplotlib.axes._subplots.AxesSubplot at 0x7f75183d8a20>"
      ]
     },
     "execution_count": 6,
     "metadata": {},
     "output_type": "execute_result"
    },
    {
     "data": {
      "image/png": "[encoded data removed]",
      "text/plain": [
       "<matplotlib.figure.Figure at 0x7f75183d85f8>"
      ]
     },
     "metadata": {},
     "output_type": "display_data"
    }
   ],
   "source": [
    "# plotting a histogram for age of the patients\n",
    "df['age'].hist()"
   ]
  },
  {
   "cell_type": "markdown",
   "metadata": {},
   "source": [
    "> It can be seen that there are outliers which will be removed."
   ]
  },
  {
   "cell_type": "code",
   "execution_count": 7,
   "metadata": {},
   "outputs": [
    {
     "data": {
      "text/plain": [
       "<matplotlib.axes._subplots.AxesSubplot at 0x7f75180ede10>"
      ]
     },
     "execution_count": 7,
     "metadata": {},
     "output_type": "execute_result"
    },
    {
     "data": {
      "image/png": "[encoded data removed]",
      "text/plain": [
       "<matplotlib.figure.Figure at 0x7f751813aa90>"
      ]
     },
     "metadata": {},
     "output_type": "display_data"
    }
   ],
   "source": [
    "# Removing the age outliers and -1 year to include patients with age between 0-95 years\n",
    "df = df[(df.age >= 0) & (df.age <= 95)]\n",
    "df['age'].hist()"
   ]
  },
  {
   "cell_type": "markdown",
   "metadata": {},
   "source": [
    "> Now our histogram for age looks pretty!"
   ]
  },
  {
   "cell_type": "markdown",
   "metadata": {},
   "source": [
    "### Converting the columns with boolean value to 0,1"
   ]
  },
  {
   "cell_type": "code",
   "execution_count": 8,
   "metadata": {
    "collapsed": true
   },
   "outputs": [],
   "source": [
    "#\n",
    "df['no_show'].replace({'No':0,'Yes':1},inplace=True)"
   ]
  },
  {
   "cell_type": "markdown",
   "metadata": {},
   "source": [
    "### Changing the datatypes of the columns"
   ]
  },
  {
   "cell_type": "markdown",
   "metadata": {},
   "source": [
    "> In this next cell, the datatypes of the columns such as patientid, scheduledday, apppointmentday will be changed."
   ]
  },
  {
   "cell_type": "code",
   "execution_count": 9,
   "metadata": {},
   "outputs": [
    {
     "name": "stdout",
     "output_type": "stream",
     "text": [
      "<class 'pandas.core.frame.DataFrame'>\n",
      "Int64Index: 110480 entries, 0 to 110526\n",
      "Data columns (total 14 columns):\n",
      "patientid         110480 non-null int64\n",
      "appointmentid     110480 non-null int64\n",
      "gender            110480 non-null object\n",
      "scheduledday      110480 non-null datetime64[ns]\n",
      "appointmentday    110480 non-null datetime64[ns]\n",
      "age               110480 non-null int64\n",
      "neighbourhood     110480 non-null object\n",
      "scholarship       110480 non-null int64\n",
      "hypertension      110480 non-null int64\n",
      "diabetes          110480 non-null int64\n",
      "alcoholism        110480 non-null int64\n",
      "handicap          110480 non-null int64\n",
      "sms_received      110480 non-null int64\n",
      "no_show           110480 non-null int64\n",
      "dtypes: datetime64[ns](2), int64(10), object(2)\n",
      "memory usage: 12.6+ MB\n"
     ]
    }
   ],
   "source": [
    "# First let's strip away T and Z from day fields\n",
    "# df['scheduledday'] = df['scheduledday'].str.replace('T', ' ')\n",
    "# df['scheduledday'] = df['scheduledday'].str.replace('Z', '')\n",
    "\n",
    "# Changing the columns to datetime field \n",
    "\n",
    "df.scheduledday = df.scheduledday.apply(np.datetime64)\n",
    "df.appointmentday   = df.appointmentday.apply(np.datetime64)\n",
    "\n",
    "# Changing the datatype of patientid to int\n",
    "\n",
    "df['patientid'] = df['patientid'].astype(int)\n",
    "\n",
    "df.info()"
   ]
  },
  {
   "cell_type": "markdown",
   "metadata": {},
   "source": [
    "> The datatypes for the columns are now changed to appropriate column names!"
   ]
  },
  {
   "cell_type": "markdown",
   "metadata": {},
   "source": [
    "<a id='eda'></a>\n",
    "## Exploratory Data Analysis\n",
    "\n",
    "> In this section, the correlation between the no-shows and other factors will be determined!\n",
    "\n",
    "### How did the appointment day affect the no-show?\n",
    "> Did day of the week matter to appointee? In the next cell, day of the week from appointment day will be extracted to answer this question!"
   ]
  },
  {
   "cell_type": "code",
   "execution_count": 33,
   "metadata": {
    "collapsed": true
   },
   "outputs": [],
   "source": [
    "# First let's figure out the appointment day falls in which day of week\n",
    "# getting the day of week from day of appointment\n",
    "\n",
    "df['day_of_week'] = df['appointmentday'].dt.weekday\n",
    "\n",
    "# creating absent/present based on False(0), True(1) values of no_show\n",
    "\n",
    "present = df['no_show'] == 0 \n",
    "absent = df['no_show'] == 1\n"
   ]
  },
  {
   "cell_type": "code",
   "execution_count": 35,
   "metadata": {},
   "outputs": [
    {
     "data": {
      "image/png": "[encoded data removed]",
      "text/plain": [
       "<matplotlib.figure.Figure at 0x7f7517f06780>"
      ]
     },
     "metadata": {},
     "output_type": "display_data"
    }
   ],
   "source": [
    "absent_patient_count  = pd.value_counts(df.day_of_week[absent]).sort_index()\n",
    "present_patient_count = pd.value_counts(df.day_of_week[present]).sort_index()\n",
    "X = np.arange(len(absent_patient_count))\n",
    "fig=plt.figure(figsize=(10,7))\n",
    "ax=fig.add_subplot(111)\n",
    "ax.bar(X, absent_patient_count, width=0.2, color='b', align='center')\n",
    "ax.bar(X, present_patient_count, width=0.2, bottom=absent_patient_count, color='g', align='center')\n",
    "ax.legend(('Absent','Present'))\n",
    "plt.xticks(X, [\"Mon\", \"Tue\", \"Wed\", \"Thu\", \"Fri\", \"Sat\"])\n",
    "ax.set_title(\"Distribution of Absent/Present Patients based on Day of their Appointment\")\n",
    "ax.set_xlabel(\"Day of Week\")\n",
    "ax.set_ylabel(\"Patients\")\n",
    "plt.show()"
   ]
  },
  {
   "cell_type": "markdown",
   "metadata": {},
   "source": [
    "**Answer**\n",
    "> It can be seen that patients missed their appointment most when it fell on Monday, Tuesday or Wednesday. Also, most number of appointments fell on those days! "
   ]
  },
  {
   "cell_type": "markdown",
   "metadata": {},
   "source": [
    "### Did the wait time between Schedule Day and Appointment day affected no-shows?"
   ]
  },
  {
   "cell_type": "markdown",
   "metadata": {},
   "source": [
    "> Did the time difference between making an appointment and day of appointment affect no-shows? In the next cell the time difference between Schedule Day and Appointment will be calculated and will be categorized into groups for visualization."
   ]
  },
  {
   "cell_type": "code",
   "execution_count": 17,
   "metadata": {
    "collapsed": true
   },
   "outputs": [],
   "source": [
    "# Create a new column which is a result of subtraction of appointmentday from scheduleday\n",
    "\n",
    "df['leadtime'] = df[\"appointmentday\"].sub(df[\"scheduledday\"], axis=0)\n",
    "df[\"leadtime\"] = (df[\"leadtime\"] / np.timedelta64(1, 'D')).abs()\n",
    "\n",
    "# df['leadtime'].dtype\n",
    "# df['leadtime'] = df.leadtime.astype(int)\n",
    "# create a new column using pandas cut!\n",
    "\n",
    "df['wait_time'] = pd.cut(df.leadtime, [0, 3, 7, 25, 40, 200], labels=['Same Day', '3-7 Days', '8-25 Days', '25-40 Days', '40+ Days'])\n"
   ]
  },
  {
   "cell_type": "code",
   "execution_count": 28,
   "metadata": {},
   "outputs": [
    {
     "data": {
      "image/png": "[encoded data removed]",
      "text/plain": [
       "<matplotlib.figure.Figure at 0x7f7518429358>"
      ]
     },
     "metadata": {},
     "output_type": "display_data"
    }
   ],
   "source": [
    "absent_patient_count  = pd.value_counts(df.wait_time[absent]).sort_index()\n",
    "present_patient_count = pd.value_counts(df.wait_time[present]).sort_index()\n",
    "X = np.arange(len(absent_patient_count))\n",
    "fig=plt.figure(figsize=(10,7))\n",
    "ax=fig.add_subplot(111)\n",
    "ax.bar(X, absent_patient_count, width=0.2, color='b', align='center')\n",
    "ax.bar(X, present_patient_count, width=0.2, bottom=absent_patient_count, color='g', align='center')\n",
    "ax.legend(('Absent','Present'))\n",
    "plt.xticks(X, ['Same Day', '3-7 Days', '8-25 Days', '25-40 Days', '40+ Days'])\n",
    "ax.set_title(\"Distribution of Absent Patients based on Wait Time\")\n",
    "ax.set_xlabel(\"Wait Time\")\n",
    "ax.set_ylabel(\"Patients\")\n",
    "plt.show()"
   ]
  },
  {
   "cell_type": "markdown",
   "metadata": {},
   "source": [
    "**Answer**\n",
    "> It can be seen from the above graph that patients missed their appointments most when it was scheduled somewhere between 8-25 days after making a request (schedule day). Also, most number of appointments were scheduled for the same day."
   ]
  },
  {
   "cell_type": "markdown",
   "metadata": {},
   "source": [
    "### Which age groups had the most number of no-shows?"
   ]
  },
  {
   "cell_type": "markdown",
   "metadata": {},
   "source": [
    "> Did the age of patients affect no-shows? The ages of the patients will be divided into groups and the question will be answered with help of a visualization!"
   ]
  },
  {
   "cell_type": "code",
   "execution_count": 31,
   "metadata": {
    "collapsed": true
   },
   "outputs": [],
   "source": [
    "# making the age groups based on the ages of the patients using pandas cut! \n",
    "\n",
    "df['age_group'] = pd.cut(df.age, [0, 10, 20, 30, 40, 50, 60, 70, 80, 90, 100], labels=[\"0-10\",\"11-20\",\"21-30\",\"31-40\",\"41-50\",\"51-60\",\"61-70\",\"71-80\",\"81-90\", \"91-100\"])"
   ]
  },
  {
   "cell_type": "code",
   "execution_count": 48,
   "metadata": {},
   "outputs": [
    {
     "data": {
      "image/png": "[encoded data removed]",
      "text/plain": [
       "<matplotlib.figure.Figure at 0x7f7517f06ba8>"
      ]
     },
     "metadata": {},
     "output_type": "display_data"
    }
   ],
   "source": [
    "labels=[\"0-10\",\"11-20\",\"21-30\",\"31-40\",\"41-50\",\"51-60\",\"61-70\",\"71-80\",\"81-90\", \"91-100\"]\n",
    "absent_patient_count  = pd.value_counts(df.age_group[absent]).sort_index()\n",
    "present_patient_count = pd.value_counts(df.age_group[present]).sort_index()\n",
    "X = np.arange(len(absent_patient_count))\n",
    "fig=plt.figure(figsize=(10,7))\n",
    "ax=fig.add_subplot(111)\n",
    "ax.bar(X, absent_patient_count, width=0.2, color='b', align='center')\n",
    "ax.bar(X, present_patient_count, width=0.2, bottom=absent_patient_count, color='g', align='center')\n",
    "ax.legend(('Absent','Present'))\n",
    "plt.xticks(X, labels)\n",
    "ax.set_title(\"Distribution of Absent/Present Patients based on Age Group\")\n",
    "ax.set_xlabel(\"Age Group\")\n",
    "ax.set_ylabel(\"Patients\")\n",
    "plt.show()"
   ]
  },
  {
   "cell_type": "markdown",
   "metadata": {},
   "source": [
    "**Answer**\n",
    "> It turns out that the patients which had their age between 11-20, 21-30 and 31-40 years contributed to the most no-shows in 2016. Although, most of the patients fell in 51-60 year old age group."
   ]
  },
  {
   "cell_type": "markdown",
   "metadata": {},
   "source": [
    "### Did the special conditions affect no-shows?"
   ]
  },
  {
   "cell_type": "markdown",
   "metadata": {},
   "source": [
    "> The special attributes assocaited with each patients have also been provided in the dataset. These are chronic conditions like diabetes, hypertension, whether handicap (upto 4 different levels), etc. Let's try to figure out how these conditions affected no-shows! Here people suffering from either of these 4 conditions are categorized as speical and vice-versa: non-special."
   ]
  },
  {
   "cell_type": "code",
   "execution_count": 36,
   "metadata": {
    "collapsed": true
   },
   "outputs": [],
   "source": [
    "# based on the hypertension, diabetes, diabetes and handicap, let's create a new column\n",
    "# this new column is just another attribute of Patient, assigning yes or no to special_condition\n",
    "\n",
    "df[\"special_condition\"] = (df.hypertension == 1) | (df.diabetes == 1) | (df.alcoholism == 1) | (df.handicap > 0)\n",
    "\n",
    "# replacing the Boolean False and True to 0, 1\n",
    "df['special_condition'].replace({False:0,True:1},inplace=True)\n",
    "\n",
    "# creating non_special and special bases on special_condition\n",
    "non_special = df['special_condition'] == 0 \n",
    "special = df['special_condition'] == 1"
   ]
  },
  {
   "cell_type": "code",
   "execution_count": 47,
   "metadata": {},
   "outputs": [
    {
     "data": {
      "image/png": "[encoded data removed]",
      "text/plain": [
       "<matplotlib.figure.Figure at 0x7f7518773400>"
      ]
     },
     "metadata": {},
     "output_type": "display_data"
    }
   ],
   "source": [
    "# plotting a bar graph for both special and non-special absent patients based on their age-group!\n",
    "\n",
    "\n",
    "special_patient_count_pre  = pd.value_counts(df.age_group[present][special]).sort_index()\n",
    "special_patient_count_abs  = pd.value_counts(df.age_group[absent][special]).sort_index()\n",
    "non_special_patient_count_pre = pd.value_counts(df.age_group[present][non_special]).sort_index()\n",
    "non_special_patient_count_abs  = pd.value_counts(df.age_group[absent][non_special]).sort_index()\n",
    "X = np.arange(len(special_patient_count_pre))\n",
    "fig=plt.figure(figsize=(12,12))\n",
    "ax=fig.add_subplot(111)\n",
    "ax.bar(X, special_patient_count_abs, width=0.2, align='center')\n",
    "ax.bar(X, special_patient_count_pre, width=0.2, bottom=special_patient_count_abs, align='center')\n",
    "ax.bar(X-0.2, non_special_patient_count_abs, width=0.2, align='center')\n",
    "ax.bar(X-0.2, non_special_patient_count_pre, width=0.2, bottom=non_special_patient_count_abs, align='center')\n",
    "ax.legend(('Special-Absent','Special-Present', 'Non Special-Absent', 'Non Special-Present'))\n",
    "plt.xticks(X-0.1, [\"0-10\",\"11-20\",\"21-30\",\"31-40\",\"41-50\",\"51-60\",\"61-70\",\"71-80\",\"81-90\", \"91-100\"])\n",
    "ax.set_title(\"Distribution for both Special and Non-Special Absent/Present Patients based on their Age-Group \")\n",
    "ax.set_xlabel(\"Age Group\")\n",
    "ax.set_ylabel(\"Patients\")\n",
    "plt.show()"
   ]
  },
  {
   "cell_type": "markdown",
   "metadata": {},
   "source": [
    "**Answer**\n",
    "> It turns out that most number of no-shows were from patients between 11-20 and 21-30 years and suffering from none of the special conditions (hypertension, diabetes, diabetes and handicap). \n",
    "\n",
    "> The most number of no-shows for the patients which did suffer from either or more than one condition of hypertension, diabetes, diabetes and handicap were from the age-group 51-60 followed by 61-70."
   ]
  },
  {
   "cell_type": "markdown",
   "metadata": {},
   "source": [
    "<a id='conclusions'></a>\n",
    "## Conclusions\n",
    "\n",
    "-  If appointments falls on Tuesday, Wednesday - the paitents missed their appointments. Also, most number of appointments were scheduled for those days.\n",
    "-  People of 11-20, 21-30 and 31-40 age groups are more likely to miss out on appointments. Most number of the patients fell in 51-60 year old age group.\n",
    "-  Most patients missed out on their appointments if wait time for them was 8-25 days. Most number of appointments were scheduled for same day.\n",
    "-  Teens and people in their 20s missed out on their appointments if they're not suffering from any medical conditions. Most people missed out on appointments were people who belonged to 51-60 age group and had one or many medical conditions."
   ]
  },
  {
   "cell_type": "markdown",
   "metadata": {
    "collapsed": true
   },
   "source": [
    "### Limitations"
   ]
  },
  {
   "cell_type": "markdown",
   "metadata": {},
   "source": [
    "-  Outliers in data (age).\n",
    "-  The dataset explored here is a subset of original one on Kaggle (300k records). The selection here could've affected \n",
    "   our analysis."
   ]
  },
  {
   "cell_type": "markdown",
   "metadata": {
    "collapsed": true
   },
   "source": [
    "##### Sources uses:\n",
    "\n",
    "-  changing sizes with subplots - https://stackoverflow.com/questions/14770735/changing-figure-size-with-subplots\n",
    "-  getting time difference - https://stackoverflow.com/questions/16103238/pandas-timedelta-in-days"
   ]
  },
  {
   "cell_type": "code",
   "execution_count": null,
   "metadata": {
    "collapsed": true
   },
   "outputs": [],
   "source": []
  }
 ],
 "metadata": {
  "kernelspec": {
   "display_name": "Python 3",
   "language": "python",
   "name": "python3"
  },
  "language_info": {
   "codemirror_mode": {
    "name": "ipython",
    "version": 3
   },
   "file_extension": ".py",
   "mimetype": "text/x-python",
   "name": "python",
   "nbconvert_exporter": "python",
   "pygments_lexer": "ipython3",
   "version": "3.6.4"
  }
 },
 "nbformat": 4,
 "nbformat_minor": 2
}
